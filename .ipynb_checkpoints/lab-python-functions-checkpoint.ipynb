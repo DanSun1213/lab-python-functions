{
 "cells": [
  {
   "cell_type": "markdown",
   "id": "25d7736c-ba17-4aff-b6bb-66eba20fbf4e",
   "metadata": {},
   "source": [
    "# Lab | Functions"
   ]
  },
  {
   "cell_type": "code",
   "execution_count": 28,
   "id": "45c0198d-6194-43fc-8190-0e1f0e92f327",
   "metadata": {},
   "outputs": [
    {
     "name": "stdin",
     "output_type": "stream",
     "text": [
      "Please enter the stock for t-shirt:  364\n",
      "Please enter the stock for mug:  67\n",
      "Please enter the stock for hat:  3\n",
      "Please enter the stock for book:  54\n",
      "Please enter the stock for keychain:  25\n"
     ]
    },
    {
     "name": "stdout",
     "output_type": "stream",
     "text": [
      "{'t-shirt': 364, 'mug': 67, 'hat': 3, 'book': 54, 'keychain': 25}\n"
     ]
    },
    {
     "name": "stdin",
     "output_type": "stream",
     "text": [
      "Please enter the stock for apple:  456\n",
      "Please enter the stock for baba:  765\n"
     ]
    },
    {
     "name": "stdout",
     "output_type": "stream",
     "text": [
      "{'t-shirt': 364, 'mug': 67, 'hat': 3, 'book': 54, 'keychain': 25, 'apple': 456, 'baba': 765}\n"
     ]
    }
   ],
   "source": [
    "#1 \n",
    "products = [\"t-shirt\", \"mug\", \"hat\", \"book\", \"keychain\"]\n",
    "inventory = {}\n",
    "\n",
    "def initialize_inventory(products):\n",
    "    for product in products:\n",
    "        while True:\n",
    "            stock = input(f'Please enter the stock for {product}: ')\n",
    "            if stock.isdigit():\n",
    "                inventory[product] = int(stock)\n",
    "                break\n",
    "            else:\n",
    "                print(\"Invalid input. Please enter a valid number.\")\n",
    "                \n",
    "initialize_inventory(products)\n",
    "print(inventory)\n",
    "    "
   ]
  },
  {
   "cell_type": "code",
   "execution_count": 59,
   "id": "4ee12735-f056-4214-a788-d40a7d24924c",
   "metadata": {},
   "outputs": [
    {
     "name": "stdin",
     "output_type": "stream",
     "text": [
      "We have t-shirt, mug, hat, book, keychain. Please enter what you would like to order:  mug\n",
      "Would you like to order another product? (yes/no):  yes\n",
      "We have t-shirt, mug, hat, book, keychain. Please enter what you would like to order:  hatt\n"
     ]
    },
    {
     "name": "stdout",
     "output_type": "stream",
     "text": [
      "hatt is not a valid product in our inventory, you can only order t-shirt, mug, hat, book, keychain.\n"
     ]
    },
    {
     "name": "stdin",
     "output_type": "stream",
     "text": [
      "We have t-shirt, mug, hat, book, keychain. Please enter what you would like to order:  hat\n",
      "Would you like to order another product? (yes/no):  no\n"
     ]
    },
    {
     "name": "stdout",
     "output_type": "stream",
     "text": [
      "{'hat', 'mug'}\n"
     ]
    }
   ],
   "source": [
    "products = [\"t-shirt\", \"mug\", \"hat\", \"book\", \"keychain\"]\n",
    "customer_orders = set()\n",
    "\n",
    "def get_customer_orders():\n",
    "    while True:\n",
    "        order_list = input(\"We have t-shirt, mug, hat, book, keychain. Please enter what you would like to order: \")\n",
    "        if order_list in products:\n",
    "            customer_orders.add(order_list)\n",
    "            more = input(\"Would you like to order another product? (yes/no): \")\n",
    "            if more.lower() != 'yes':\n",
    "                break\n",
    "        else:\n",
    "            print(f'{order_list} is not a valid product in our inventory, you can only order t-shirt, mug, hat, book, keychain.')\n",
    "    \n",
    "    return customer_orders\n",
    "\n",
    "customer_orders = get_customer_orders()\n",
    "print(customer_orders)\n"
   ]
  },
  {
   "cell_type": "code",
   "execution_count": 61,
   "id": "4f8bfca4-1ab2-4e8e-bb9e-53b30f766316",
   "metadata": {},
   "outputs": [
    {
     "name": "stdout",
     "output_type": "stream",
     "text": [
      "hat stock updated. Remaining stock: 2\n",
      "mug stock updated. Remaining stock: 66\n",
      "{'t-shirt': 364, 'mug': 66, 'hat': 2, 'book': 54, 'keychain': 25, 'apple': 456, 'baba': 765}\n"
     ]
    }
   ],
   "source": [
    "#3 Inside the function, implement the code for updating the inventory dictionary based on the customer orders.\n",
    "\n",
    "def update_inventory(customer_orders, inventory):\n",
    "    for order in customer_orders:\n",
    "        if order in inventory:\n",
    "            if inventory[order] > 0:\n",
    "                inventory[order] -= 1\n",
    "                print(f\"{order} stock updated. Remaining stock: {inventory[order]}\")\n",
    "            else:\n",
    "                print(f\"{order} is out of stock.\")\n",
    "        else:\n",
    "            print(f\"{order} is not in the inventory.\")\n",
    "    \n",
    "    return inventory\n",
    "\n",
    "# Update inventory\n",
    "inventory = update_inventory(customer_orders, inventory)\n",
    "print(inventory)\n",
    "\n",
    "def print_inventory(inventory):\n",
    "    print(\"Updated Inventory:\")\n",
    "    for product, quantity in inventory.items():\n",
    "        print(f\"{product}: {quantity}\")\n",
    "\n",
    "\n",
    "# Print updated inventory\n",
    "print_inventory(inventory)\n",
    "    "
   ]
  },
  {
   "cell_type": "code",
   "execution_count": 63,
   "id": "fcd93a22-9646-4c6a-b235-833a3deb8f40",
   "metadata": {},
   "outputs": [
    {
     "name": "stdout",
     "output_type": "stream",
     "text": [
      "Updated Inventory:\n",
      "t-shirt: 364\n",
      "mug: 66\n",
      "hat: 2\n",
      "book: 54\n",
      "keychain: 25\n",
      "apple: 456\n",
      "baba: 765\n"
     ]
    }
   ],
   "source": [
    "\n",
    "\n",
    "def print_inventory(inventory):\n",
    "    print(\"Updated Inventory:\")\n",
    "    for product, quantity in inventory.items():\n",
    "        print(f\"{product}: {quantity}\")\n",
    "\n",
    "\n",
    "# Print updated inventory\n",
    "print_inventory(inventory)"
   ]
  },
  {
   "cell_type": "code",
   "execution_count": 76,
   "id": "134fe225-c39b-477b-b8c5-0bfdde1507f8",
   "metadata": {},
   "outputs": [
    {
     "data": {
      "text/plain": [
       "(2, 40.0)"
      ]
     },
     "execution_count": 76,
     "metadata": {},
     "output_type": "execute_result"
    }
   ],
   "source": [
    "#4 calculating the order statistics (total products ordered, and percentage of unique products ordered). \n",
    "#The function should return these values.\n",
    "def calculate_order_statistics(customer_orders, products):\n",
    "    \n",
    "    total_product_order = len(customer_orders)\n",
    "    percentage_unique_products_ordered = (total_product_order  / len(products)) * 100\n",
    "\n",
    "    return total_product_order, percentage_unique_products_ordered\n",
    "\n",
    "calculate_order_statistics(customer_orders, products)"
   ]
  },
  {
   "cell_type": "code",
   "execution_count": 88,
   "id": "f783aee9-122f-4c4a-924c-4ae75f336370",
   "metadata": {},
   "outputs": [
    {
     "name": "stdout",
     "output_type": "stream",
     "text": [
      "Total products ordered: 2\n",
      "Percentage of unique products ordered: 40.00%\n"
     ]
    }
   ],
   "source": [
    "#5 \n",
    "def print_order_statistics(order_statistics):\n",
    "    total_products_ordered, percentage_unique_products_ordered = order_statistics\n",
    "    print(f\"Total products ordered: {total_products_ordered}\")\n",
    "    print(f\"Percentage of unique products ordered: {percentage_unique_products_ordered:.2f}%\")\n",
    "\n",
    "\n",
    "# Calculate order statistics\n",
    "order_statistics = calculate_order_statistics(customer_orders, products)\n",
    "\n",
    "# Print order statistics\n",
    "print_order_statistics(order_statistics)\n",
    "\n",
    "    "
   ]
  },
  {
   "cell_type": "code",
   "execution_count": 93,
   "id": "c0c571c1-4dd1-4dce-9116-aa94e0a7ad52",
   "metadata": {},
   "outputs": [
    {
     "name": "stdout",
     "output_type": "stream",
     "text": [
      "t-shirt: 364\n",
      "mug: 66\n",
      "hat: 2\n",
      "book: 54\n",
      "keychain: 25\n",
      "apple: 456\n",
      "baba: 765\n"
     ]
    }
   ],
   "source": [
    "# Define a function named print_updated_inventory that takes inventory as a parameter. \n",
    "# Inside the function, implement the code for printing the updated inventory.\n",
    "\n",
    "def print_updated_inventory(inventory):\n",
    "    for product, quantity in inventory.items():\n",
    "        print(f\"{product}: {quantity}\")\n",
    "\n",
    "print_updated_inventory(inventory)"
   ]
  },
  {
   "cell_type": "code",
   "execution_count": 95,
   "id": "c2efc2c9-f68c-4e75-ae55-a8a80a6e9355",
   "metadata": {},
   "outputs": [
    {
     "name": "stdin",
     "output_type": "stream",
     "text": [
      "Please enter the stock for t-shirt:  45\n",
      "Please enter the stock for mug:  65\n",
      "Please enter the stock for hat:  243\n",
      "Please enter the stock for book:  46\n",
      "Please enter the stock for keychain:  457\n",
      "We have t-shirt, mug, hat, book, keychain. Please enter what you would like to order:  mug\n",
      "Would you like to order another product? (yes/no):  yes\n",
      "We have t-shirt, mug, hat, book, keychain. Please enter what you would like to order:  hat\n",
      "Would you like to order another product? (yes/no):  no\n"
     ]
    },
    {
     "name": "stdout",
     "output_type": "stream",
     "text": [
      "hat stock updated. Remaining stock: 242\n",
      "mug stock updated. Remaining stock: 64\n",
      "Total products ordered: 2\n",
      "Percentage of unique products ordered: 40.00%\n",
      "Updated Inventory:\n",
      "t-shirt: 45\n",
      "mug: 64\n",
      "hat: 242\n",
      "book: 46\n",
      "keychain: 457\n"
     ]
    }
   ],
   "source": [
    "#7\n",
    "\n",
    "products = [\"t-shirt\", \"mug\", \"hat\", \"book\", \"keychain\"]\n",
    "inventory = {}\n",
    "\n",
    "def initialize_inventory(products):\n",
    "    for product in products:\n",
    "        while True:\n",
    "            stock = input(f'Please enter the stock for {product}: ')\n",
    "            if stock.isdigit():\n",
    "                inventory[product] = int(stock)\n",
    "                break\n",
    "            else:\n",
    "                print(\"Invalid input. Please enter a valid number.\")\n",
    "\n",
    "def get_customer_orders():\n",
    "    while True:\n",
    "        order_list = input(\"We have t-shirt, mug, hat, book, keychain. Please enter what you would like to order: \")\n",
    "        if order_list in products:\n",
    "            customer_orders.add(order_list)\n",
    "            more = input(\"Would you like to order another product? (yes/no): \")\n",
    "            if more.lower() != 'yes':\n",
    "                break\n",
    "        else:\n",
    "            print(f'{order_list} is not a valid product in our inventory, you can only order t-shirt, mug, hat, book, keychain.')\n",
    "    \n",
    "    return customer_orders\n",
    "\n",
    "def update_inventory(customer_orders, inventory):\n",
    "    for order in customer_orders:\n",
    "        if order in inventory:\n",
    "            if inventory[order] > 0:\n",
    "                inventory[order] -= 1\n",
    "                print(f\"{order} stock updated. Remaining stock: {inventory[order]}\")\n",
    "            else:\n",
    "                print(f\"{order} is out of stock.\")\n",
    "        else:\n",
    "            print(f\"{order} is not in the inventory.\")\n",
    "    \n",
    "    return inventory\n",
    "\n",
    "\n",
    "\n",
    "def print_order_statistics(order_statistics):\n",
    "    total_products_ordered, percentage_unique_products_ordered = order_statistics\n",
    "    print(f\"Total products ordered: {total_products_ordered}\")\n",
    "    print(f\"Percentage of unique products ordered: {percentage_unique_products_ordered:.2f}%\")\n",
    "\n",
    "def print_inventory(inventory):\n",
    "    print(\"Updated Inventory:\")\n",
    "    for product, quantity in inventory.items():\n",
    "        print(f\"{product}: {quantity}\")\n",
    "\n",
    "initialize_inventory(products)\n",
    "get_customer_orders()\n",
    "update_inventory(customer_orders, inventory)\n",
    "print_order_statistics(order_statistics)\n",
    "print_inventory(inventory)"
   ]
  },
  {
   "cell_type": "code",
   "execution_count": null,
   "id": "e78fcfc6-ba68-4493-96fc-df4f398f49c7",
   "metadata": {},
   "outputs": [],
   "source": []
  }
 ],
 "metadata": {
  "kernelspec": {
   "display_name": "Python 3 (ipykernel)",
   "language": "python",
   "name": "python3"
  },
  "language_info": {
   "codemirror_mode": {
    "name": "ipython",
    "version": 3
   },
   "file_extension": ".py",
   "mimetype": "text/x-python",
   "name": "python",
   "nbconvert_exporter": "python",
   "pygments_lexer": "ipython3",
   "version": "3.11.7"
  }
 },
 "nbformat": 4,
 "nbformat_minor": 5
}
